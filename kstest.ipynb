{
 "cells": [
  {
   "cell_type": "code",
   "execution_count": 9,
   "metadata": {},
   "outputs": [],
   "source": [
    "from scipy.stats import ks_2samp\n",
    "import numpy as np"
   ]
  },
  {
   "cell_type": "markdown",
   "metadata": {},
   "source": [
    "Under the null hypothesis that 2 independent samples are drawn from the same continuous distribution. If p-value < 0.05, reject the null hypothesis.\n",
    "\n",
    "We want to test whether two distributions are identical. Therefore the alternative hypothesis is two-sided G(x) != F(x).\n",
    "\n",
    "[Documentation](https://docs.scipy.org/doc/scipy/reference/generated/scipy.stats.ks_2samp.html)"
   ]
  },
  {
   "cell_type": "code",
   "execution_count": 12,
   "metadata": {},
   "outputs": [],
   "source": [
    "# generate values according to normal distribution \n",
    "N1 = np.random.normal(0,0.1,100)\n",
    "N11 = np.random.normal(0.001,0.1,100)\n",
    "N2 = np.random.normal(1,0.5,100)\n",
    "N3 = np.random.normal(10,0.1,100)\n",
    "# generate values according to poisson\n",
    "P = np.random.poisson(0.5,100)"
   ]
  },
  {
   "cell_type": "code",
   "execution_count": 11,
   "metadata": {},
   "outputs": [
    {
     "data": {
      "text/plain": [
       "Ks_2sampResult(statistic=0.9199999999999999, pvalue=1.3166383261562092e-38)"
      ]
     },
     "execution_count": 11,
     "metadata": {},
     "output_type": "execute_result"
    }
   ],
   "source": [
    "ks_2samp(N1,N2)"
   ]
  },
  {
   "cell_type": "code",
   "execution_count": 15,
   "metadata": {},
   "outputs": [
    {
     "data": {
      "text/plain": [
       "Ks_2sampResult(statistic=0.14, pvalue=0.26055273160812736)"
      ]
     },
     "execution_count": 15,
     "metadata": {},
     "output_type": "execute_result"
    }
   ],
   "source": [
    "# compare two distributions not eqaul, but quite similar to each other\n",
    "ks_2samp(N1,N11)"
   ]
  },
  {
   "cell_type": "code",
   "execution_count": 16,
   "metadata": {},
   "outputs": [
    {
     "data": {
      "text/plain": [
       "Ks_2sampResult(statistic=0.47, pvalue=2.1682585673653708e-10)"
      ]
     },
     "execution_count": 16,
     "metadata": {},
     "output_type": "execute_result"
    }
   ],
   "source": [
    "ks_2samp(N1,P)"
   ]
  },
  {
   "cell_type": "code",
   "execution_count": 19,
   "metadata": {},
   "outputs": [
    {
     "name": "stdout",
     "output_type": "stream",
     "text": [
      "[0.94, 2.762830853770571e-40]\n"
     ]
    }
   ],
   "source": [
    "# to save results\n",
    "result = ks_2samp(N1,N2)\n",
    "print(list(result))"
   ]
  }
 ],
 "metadata": {
  "kernelspec": {
   "display_name": "Python 3",
   "language": "python",
   "name": "python3"
  },
  "language_info": {
   "codemirror_mode": {
    "name": "ipython",
    "version": 3
   },
   "file_extension": ".py",
   "mimetype": "text/x-python",
   "name": "python",
   "nbconvert_exporter": "python",
   "pygments_lexer": "ipython3",
   "version": "3.7.1"
  }
 },
 "nbformat": 4,
 "nbformat_minor": 2
}
